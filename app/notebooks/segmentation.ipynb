{
 "cells": [
  {
   "cell_type": "code",
   "execution_count": 1,
   "id": "3ba549cb-8df8-4931-ba1a-2b657fd1068b",
   "metadata": {},
   "outputs": [],
   "source": [
    "import onnxruntime as rt\n",
    "import cv2\n",
    "import matplotlib.pyplot as plt\n",
    "from PIL import Image\n",
    "import numpy as np\n",
    "import random"
   ]
  },
  {
   "cell_type": "code",
   "execution_count": 2,
   "id": "32682805-b9c8-4ab6-86b8-67b0b0caa721",
   "metadata": {},
   "outputs": [],
   "source": [
    "def letterbox(im, new_shape=(640, 640), color=(114, 114, 114), auto=True, scaleup=True, stride=32):\n",
    "    # Resize and pad image while meeting stride-multiple constraints\n",
    "    shape = im.shape[:2]  # current shape [height, width]\n",
    "    if isinstance(new_shape, int):\n",
    "        new_shape = (new_shape, new_shape)\n",
    "\n",
    "    # Scale ratio (new / old)\n",
    "    r = min(new_shape[0] / shape[0], new_shape[1] / shape[1])\n",
    "    if not scaleup:  # only scale down, do not scale up (for better val mAP)\n",
    "        r = min(r, 1.0)\n",
    "\n",
    "    # Compute padding\n",
    "    new_unpad = int(round(shape[1] * r)), int(round(shape[0] * r))\n",
    "    dw, dh = new_shape[1] - new_unpad[0], new_shape[0] - new_unpad[1]  # wh padding\n",
    "\n",
    "    if auto:  # minimum rectangle\n",
    "        dw, dh = np.mod(dw, stride), np.mod(dh, stride)  # wh padding\n",
    "\n",
    "    dw /= 2  # divide padding into 2 sides\n",
    "    dh /= 2\n",
    "\n",
    "    if shape[::-1] != new_unpad:  # resize\n",
    "        im = cv2.resize(im, new_unpad, interpolation=cv2.INTER_LINEAR)\n",
    "    top, bottom = int(round(dh - 0.1)), int(round(dh + 0.1))\n",
    "    left, right = int(round(dw - 0.1)), int(round(dw + 0.1))\n",
    "    im = cv2.copyMakeBorder(im, top, bottom, left, right, cv2.BORDER_CONSTANT, value=color)  # add border\n",
    "    return im, r, (dw, dh)\n",
    "\n",
    "DETECTION_NAMES = ['object']\n",
    "colors = {name:[random.randint(0, 255) for _ in range(3)] for i,name in enumerate(DETECTION_NAMES)}"
   ]
  },
  {
   "cell_type": "code",
   "execution_count": null,
   "id": "68ffc4ec-6a3d-4ca3-a0d9-97f1e4604423",
   "metadata": {},
   "outputs": [],
   "source": []
  },
  {
   "cell_type": "code",
   "execution_count": 3,
   "id": "e5eddac2-0ed5-4793-a00e-52f44a294fb6",
   "metadata": {},
   "outputs": [],
   "source": [
    "session = rt.InferenceSession(\n",
    "    \"../data/models/yolov7/yolov7-tiny.onnx\", providers=rt.get_available_providers()\n",
    ")"
   ]
  },
  {
   "cell_type": "code",
   "execution_count": 4,
   "id": "64af5e52-4a2b-4bf2-a989-6f526f3c4b45",
   "metadata": {},
   "outputs": [
    {
     "data": {
      "text/plain": [
       "('images', 'output')"
      ]
     },
     "execution_count": 4,
     "metadata": {},
     "output_type": "execute_result"
    }
   ],
   "source": [
    "session.get_inputs()[0].name, session.get_outputs()[0].name"
   ]
  },
  {
   "cell_type": "code",
   "execution_count": 5,
   "id": "0eae162a-7dc9-4f94-a584-55a829eb8ebc",
   "metadata": {},
   "outputs": [],
   "source": [
    "img = cv2.imread(\"../data/input/train_shelf_images/train1.jpg\")\n",
    "pilimage = Image.open(\"../data/input/train_shelf_images/train1.jpg\")"
   ]
  },
  {
   "cell_type": "code",
   "execution_count": 6,
   "id": "ecaa3c3f-ee5a-42d7-81e8-edc317e99bf9",
   "metadata": {},
   "outputs": [
    {
     "data": {
      "text/plain": [
       "(1, 3, 640, 640)"
      ]
     },
     "execution_count": 6,
     "metadata": {},
     "output_type": "execute_result"
    }
   ],
   "source": [
    "img = cv2.cvtColor(img, cv2.COLOR_BGR2RGB)\n",
    "\n",
    "image = img.copy()\n",
    "image, ratio, dwdh = letterbox(image, auto=False)\n",
    "image = image.transpose((2, 0, 1))\n",
    "image = np.expand_dims(image, 0)\n",
    "image = np.ascontiguousarray(image)\n",
    "\n",
    "im = image.astype(np.float32)\n",
    "im /= 255\n",
    "im.shape"
   ]
  },
  {
   "cell_type": "code",
   "execution_count": 7,
   "id": "95d904ed-9bec-4380-952f-1b376049e639",
   "metadata": {},
   "outputs": [],
   "source": [
    "outname = [i.name for i in session.get_outputs()]\n",
    "outname\n",
    "\n",
    "inname = [i.name for i in session.get_inputs()]\n",
    "inname\n",
    "\n",
    "inp = {inname[0]:im}"
   ]
  },
  {
   "cell_type": "code",
   "execution_count": 8,
   "id": "0a0723ed-6f6d-44c1-99e0-d5f715de1633",
   "metadata": {},
   "outputs": [
    {
     "data": {
      "text/plain": [
       "array([  0.        ,  44.407883  , 382.23026   , 106.23451   ,\n",
       "       460.87308   ,   0.        ,   0.91727257], dtype=float32)"
      ]
     },
     "execution_count": 8,
     "metadata": {},
     "output_type": "execute_result"
    }
   ],
   "source": [
    "outputs = session.run(outname, inp)[0]\n",
    "outputs[0]"
   ]
  },
  {
   "cell_type": "code",
   "execution_count": 9,
   "id": "442ad748-f11d-4cb0-9bc3-8fa3329cac9b",
   "metadata": {},
   "outputs": [],
   "source": [
    "detections = []"
   ]
  },
  {
   "cell_type": "code",
   "execution_count": 10,
   "id": "925e6345-b387-4ba3-b9fe-ae256c239195",
   "metadata": {},
   "outputs": [],
   "source": [
    "for i, (batch_id, x0, y0, x1, y1, cls_id, score) in enumerate(outputs):\n",
    "    box = np.array([x0, y0, x1, y1])\n",
    "    box -= np.array(dwdh * 2)\n",
    "    box /= ratio\n",
    "    box = box.round().astype(np.int32).tolist()\n",
    "    cls_id = int(cls_id)\n",
    "    score = round(float(score), 3)\n",
    "    name = DETECTION_NAMES[cls_id]\n",
    "    detections.append({\n",
    "        'num': i,\n",
    "        'name': name,\n",
    "        'score': score,\n",
    "        'coords': box\n",
    "    })"
   ]
  },
  {
   "cell_type": "code",
   "execution_count": 11,
   "id": "e133f6a6-97a0-44d2-8157-622e2f05950d",
   "metadata": {},
   "outputs": [
    {
     "data": {
      "text/plain": [
       "[{'num': 0, 'name': 'object', 'score': 0.917, 'coords': [44, 302, 106, 381]},\n",
       " {'num': 1, 'name': 'object', 'score': 0.915, 'coords': [168, 204, 229, 286]},\n",
       " {'num': 2, 'name': 'object', 'score': 0.914, 'coords': [104, 203, 166, 286]},\n",
       " {'num': 3, 'name': 'object', 'score': 0.914, 'coords': [173, 301, 232, 380]},\n",
       " {'num': 4, 'name': 'object', 'score': 0.909, 'coords': [233, 200, 292, 289]},\n",
       " {'num': 5, 'name': 'object', 'score': 0.909, 'coords': [0, 80, 51, 179]},\n",
       " {'num': 6, 'name': 'object', 'score': 0.904, 'coords': [52, 80, 120, 181]},\n",
       " {'num': 7, 'name': 'object', 'score': 0.901, 'coords': [110, 299, 169, 380]},\n",
       " {'num': 8, 'name': 'object', 'score': 0.895, 'coords': [535, 0, 599, 67]},\n",
       " {'num': 9, 'name': 'object', 'score': 0.894, 'coords': [296, 199, 356, 289]},\n",
       " {'num': 10, 'name': 'object', 'score': 0.885, 'coords': [426, 203, 487, 287]},\n",
       " {'num': 11, 'name': 'object', 'score': 0.884, 'coords': [137, 1, 206, 60]},\n",
       " {'num': 12, 'name': 'object', 'score': 0.881, 'coords': [186, 79, 252, 183]},\n",
       " {'num': 13, 'name': 'object', 'score': 0.88, 'coords': [300, 302, 359, 381]},\n",
       " {'num': 14, 'name': 'object', 'score': 0.88, 'coords': [61, 2, 137, 58]},\n",
       " {'num': 15, 'name': 'object', 'score': 0.878, 'coords': [254, 89, 319, 182]},\n",
       " {'num': 16, 'name': 'object', 'score': 0.876, 'coords': [120, 78, 185, 184]},\n",
       " {'num': 17, 'name': 'object', 'score': 0.868, 'coords': [358, 204, 429, 286]},\n",
       " {'num': 18, 'name': 'object', 'score': 0.866, 'coords': [172, 411, 234, 481]},\n",
       " {'num': 19, 'name': 'object', 'score': 0.864, 'coords': [470, 0, 533, 64]},\n",
       " {'num': 20, 'name': 'object', 'score': 0.86, 'coords': [-2, 301, 45, 383]},\n",
       " {'num': 21, 'name': 'object', 'score': 0.858, 'coords': [364, 399, 418, 480]},\n",
       " {'num': 22, 'name': 'object', 'score': 0.856, 'coords': [36, 203, 101, 288]},\n",
       " {'num': 23, 'name': 'object', 'score': 0.854, 'coords': [319, 89, 388, 181]},\n",
       " {'num': 24, 'name': 'object', 'score': 0.846, 'coords': [520, 76, 576, 153]},\n",
       " {'num': 25, 'name': 'object', 'score': 0.84, 'coords': [594, 83, 618, 132]},\n",
       " {'num': 26, 'name': 'object', 'score': 0.834, 'coords': [107, 410, 167, 481]},\n",
       " {'num': 27, 'name': 'object', 'score': 0.83, 'coords': [583, 149, 620, 206]},\n",
       " {'num': 28, 'name': 'object', 'score': 0.826, 'coords': [421, 400, 479, 476]},\n",
       " {'num': 29, 'name': 'object', 'score': 0.822, 'coords': [507, 201, 566, 274]},\n",
       " {'num': 30, 'name': 'object', 'score': 0.82, 'coords': [621, 83, 640, 133]},\n",
       " {'num': 31, 'name': 'object', 'score': 0.82, 'coords': [452, 79, 517, 184]},\n",
       " {'num': 32, 'name': 'object', 'score': 0.817, 'coords': [479, 400, 533, 476]},\n",
       " {'num': 33, 'name': 'object', 'score': 0.816, 'coords': [598, 4, 639, 67]},\n",
       " {'num': 34, 'name': 'object', 'score': 0.8, 'coords': [0, 19, 54, 56]},\n",
       " {'num': 35, 'name': 'object', 'score': 0.796, 'coords': [382, 77, 453, 180]},\n",
       " {'num': 36, 'name': 'object', 'score': 0.795, 'coords': [240, 399, 299, 481]},\n",
       " {'num': 37, 'name': 'object', 'score': 0.788, 'coords': [477, 307, 550, 373]},\n",
       " {'num': 38, 'name': 'object', 'score': 0.777, 'coords': [2, 203, 36, 285]},\n",
       " {'num': 39, 'name': 'object', 'score': 0.767, 'coords': [362, 301, 420, 380]},\n",
       " {'num': 40, 'name': 'object', 'score': 0.762, 'coords': [619, 414, 640, 454]},\n",
       " {'num': 41, 'name': 'object', 'score': 0.756, 'coords': [-1, 400, 43, 482]},\n",
       " {'num': 42, 'name': 'object', 'score': 0.744, 'coords': [420, 303, 480, 375]},\n",
       " {'num': 43, 'name': 'object', 'score': 0.744, 'coords': [336, 0, 478, 63]},\n",
       " {'num': 44, 'name': 'object', 'score': 0.737, 'coords': [582, 413, 612, 455]},\n",
       " {'num': 45, 'name': 'object', 'score': 0.736, 'coords': [569, 222, 625, 253]},\n",
       " {'num': 46, 'name': 'object', 'score': 0.735, 'coords': [274, 26, 340, 60]},\n",
       " {'num': 47, 'name': 'object', 'score': 0.725, 'coords': [40, 401, 107, 471]},\n",
       " {'num': 48, 'name': 'object', 'score': 0.695, 'coords': [515, 153, 576, 182]},\n",
       " {'num': 49, 'name': 'object', 'score': 0.692, 'coords': [300, 400, 364, 479]},\n",
       " {'num': 50, 'name': 'object', 'score': 0.676, 'coords': [550, 402, 567, 468]},\n",
       " {'num': 51, 'name': 'object', 'score': 0.64, 'coords': [623, 150, 640, 206]},\n",
       " {'num': 52, 'name': 'object', 'score': 0.636, 'coords': [207, -2, 272, 60]},\n",
       " {'num': 53, 'name': 'object', 'score': 0.607, 'coords': [572, 255, 630, 280]},\n",
       " {'num': 54, 'name': 'object', 'score': 0.601, 'coords': [273, -1, 341, 47]},\n",
       " {'num': 55, 'name': 'object', 'score': 0.6, 'coords': [344, 0, 407, 63]},\n",
       " {'num': 56, 'name': 'object', 'score': 0.596, 'coords': [531, 402, 548, 471]},\n",
       " {'num': 57, 'name': 'object', 'score': 0.525, 'coords': [0, -2, 57, 20]},\n",
       " {'num': 58, 'name': 'object', 'score': 0.521, 'coords': [547, 300, 572, 372]},\n",
       " {'num': 59, 'name': 'object', 'score': 0.516, 'coords': [572, 299, 596, 322]},\n",
       " {'num': 60, 'name': 'object', 'score': 0.514, 'coords': [302, 399, 359, 447]},\n",
       " {'num': 61, 'name': 'object', 'score': 0.514, 'coords': [303, 437, 359, 480]},\n",
       " {'num': 62, 'name': 'object', 'score': 0.505, 'coords': [43, 400, 102, 446]},\n",
       " {'num': 63, 'name': 'object', 'score': 0.481, 'coords': [567, 256, 597, 283]},\n",
       " {'num': 64, 'name': 'object', 'score': 0.48, 'coords': [627, 300, 640, 340]},\n",
       " {'num': 65, 'name': 'object', 'score': 0.462, 'coords': [629, 244, 640, 280]},\n",
       " {'num': 66, 'name': 'object', 'score': 0.453, 'coords': [274, -1, 341, 30]},\n",
       " {'num': 67, 'name': 'object', 'score': 0.402, 'coords': [609, 298, 628, 332]},\n",
       " {'num': 68, 'name': 'object', 'score': 0.377, 'coords': [626, 367, 640, 392]}]"
      ]
     },
     "execution_count": 11,
     "metadata": {},
     "output_type": "execute_result"
    }
   ],
   "source": [
    "detections"
   ]
  },
  {
   "cell_type": "code",
   "execution_count": 12,
   "id": "09bb3edd-ecdd-483a-84b9-cc8a45952867",
   "metadata": {},
   "outputs": [
    {
     "name": "stdout",
     "output_type": "stream",
     "text": [
      "0:[44, 302, 106, 381]\n",
      "1:[168, 204, 229, 286]\n",
      "2:[104, 203, 166, 286]\n",
      "3:[173, 301, 232, 380]\n",
      "4:[233, 200, 292, 289]\n",
      "5:[0, 80, 51, 179]\n",
      "6:[52, 80, 120, 181]\n",
      "7:[110, 299, 169, 380]\n",
      "8:[535, 0, 599, 67]\n",
      "9:[296, 199, 356, 289]\n",
      "10:[426, 203, 487, 287]\n",
      "11:[137, 1, 206, 60]\n",
      "12:[186, 79, 252, 183]\n",
      "13:[300, 302, 359, 381]\n",
      "14:[61, 2, 137, 58]\n",
      "15:[254, 89, 319, 182]\n",
      "16:[120, 78, 185, 184]\n",
      "17:[358, 204, 429, 286]\n",
      "18:[172, 411, 234, 481]\n",
      "19:[470, 0, 533, 64]\n",
      "20:[-2, 301, 45, 383]\n",
      "21:[364, 399, 418, 480]\n",
      "22:[36, 203, 101, 288]\n",
      "23:[319, 89, 388, 181]\n",
      "24:[520, 76, 576, 153]\n",
      "25:[594, 83, 618, 132]\n",
      "26:[107, 410, 167, 481]\n",
      "27:[583, 149, 620, 206]\n",
      "28:[421, 400, 479, 476]\n",
      "29:[507, 201, 566, 274]\n",
      "30:[621, 83, 640, 133]\n",
      "31:[452, 79, 517, 184]\n",
      "32:[479, 400, 533, 476]\n",
      "33:[598, 4, 639, 67]\n",
      "34:[0, 19, 54, 56]\n",
      "35:[382, 77, 453, 180]\n",
      "36:[240, 399, 299, 481]\n",
      "37:[477, 307, 550, 373]\n",
      "38:[2, 203, 36, 285]\n",
      "39:[362, 301, 420, 380]\n",
      "40:[619, 414, 640, 454]\n",
      "41:[-1, 400, 43, 482]\n",
      "42:[420, 303, 480, 375]\n",
      "43:[336, 0, 478, 63]\n",
      "44:[582, 413, 612, 455]\n",
      "45:[569, 222, 625, 253]\n",
      "46:[274, 26, 340, 60]\n",
      "47:[40, 401, 107, 471]\n",
      "48:[515, 153, 576, 182]\n",
      "49:[300, 400, 364, 479]\n",
      "50:[550, 402, 567, 468]\n",
      "51:[623, 150, 640, 206]\n",
      "52:[207, -2, 272, 60]\n",
      "53:[572, 255, 630, 280]\n",
      "54:[273, -1, 341, 47]\n",
      "55:[344, 0, 407, 63]\n",
      "56:[531, 402, 548, 471]\n",
      "57:[0, -2, 57, 20]\n",
      "58:[547, 300, 572, 372]\n",
      "59:[572, 299, 596, 322]\n",
      "60:[302, 399, 359, 447]\n",
      "61:[303, 437, 359, 480]\n",
      "62:[43, 400, 102, 446]\n",
      "63:[567, 256, 597, 283]\n",
      "64:[627, 300, 640, 340]\n",
      "65:[629, 244, 640, 280]\n",
      "66:[274, -1, 341, 30]\n",
      "67:[609, 298, 628, 332]\n",
      "68:[626, 367, 640, 392]\n"
     ]
    }
   ],
   "source": [
    "cropped_images = []\n",
    "new_img = cv2.cvtColor(img, cv2.COLOR_RGB2BGR)\n",
    "\n",
    "for i, detection in enumerate(detections):\n",
    "    coords = detection['coords']\n",
    "    # box = \n",
    "    # image = ori_images[int(batch_id)]\n",
    "    # box -= np.array(dwdh*2)\n",
    "    # box /= ratio\n",
    "    # box = box.round().astype(np.int32).tolist()\n",
    "    # cls_id = int(cls_id)\n",
    "    # score = round(float(score),3)\n",
    "    # name = names[cls_id]\n",
    "    # color = colors[name]\n",
    "    # name += ' '+str(score)\n",
    "    # cv2.rectangle(image,box[:2],box[2:],color,2)\n",
    "    # cv2.putText(image,name,(box[0], box[1] - 2),cv2.FONT_HERSHEY_SIMPLEX,0.75,[225, 255, 255],thickness=2)\n",
    "    print(f\"{i}:{coords}\")\n",
    "    try:\n",
    "        image_bgr = cv2.cvtColor(image, cv2.COLOR_RGB2BGR)\n",
    "        cropped_images.append(new_img[coords[1]:coords[3], coords[0]:coords[2]])\n",
    "    except Exception as e:\n",
    "        print(f\"Unable to save detection {i}, with boxes: {box}\")\n",
    "        print(e)\n",
    "# Image.fromarray(ori_images[0])"
   ]
  },
  {
   "cell_type": "code",
   "execution_count": 13,
   "id": "c9022176-ac62-497e-86ef-67b8b3c0e233",
   "metadata": {},
   "outputs": [
    {
     "data": {
      "text/plain": [
       "-1"
      ]
     },
     "execution_count": 13,
     "metadata": {},
     "output_type": "execute_result"
    }
   ],
   "source": [
    "cv2.imshow(\"test\", cropped_images[0])\n",
    "cv2.waitKey(0)"
   ]
  },
  {
   "cell_type": "code",
   "execution_count": 16,
   "id": "ed6792a9-66f3-4187-9ea9-41a215002513",
   "metadata": {},
   "outputs": [
    {
     "name": "stdout",
     "output_type": "stream",
     "text": [
      "Could not save image\n",
      "Could not save image\n",
      "Could not save image\n",
      "Could not save image\n",
      "Could not save image\n",
      "Could not save image\n"
     ]
    }
   ],
   "source": [
    "for i,image in enumerate(cropped_images):\n",
    "    try:\n",
    "        # cv2.imshow(\"test\", cropped_images[0])\n",
    "        # cv2.waitKey(0)\n",
    "        cv2.imwrite(f\"../data/processed_data/detections/image_{i}.jpg\", image)\n",
    "    except Exception:\n",
    "        print('Could not save image')"
   ]
  },
  {
   "cell_type": "code",
   "execution_count": null,
   "id": "9bf4f8c5-0c05-447c-bc68-aa613191f5fb",
   "metadata": {},
   "outputs": [],
   "source": [
    "ori_images = [img.copy()]\n",
    "# cropped_images = [\n",
    "\n",
    "\n",
    "for i,(batch_id,x0,y0,x1,y1,cls_id,score) in enumerate(outputs):\n",
    "    \n",
    "    image = ori_images[int(batch_id)]\n",
    "    box = np.array([x0,y0,x1,y1])\n",
    "    box -= np.array(dwdh*2)\n",
    "    box /= ratio\n",
    "    box = box.round().astype(np.int32).tolist()\n",
    "    cls_id = int(cls_id)\n",
    "    score = round(float(score),3)\n",
    "    name = names[cls_id]\n",
    "    color = colors[name]\n",
    "    name += ' '+str(score)\n",
    "    cv2.rectangle(image,box[:2],box[2:],color,2)\n",
    "    cv2.putText(image,name,(box[0], box[1] - 2),cv2.FONT_HERSHEY_SIMPLEX,0.75,[225, 255, 255],thickness=2)\n",
    "    print(f\"{i}:{box}\")\n",
    "    try:\n",
    "        image_bgr = cv2.cvtColor(image, cv2.COLOR_RGB2BGR)\n",
    "        save_path = f\"../data/output/image_{int(i)}_{i}.jpg\"\n",
    "        cv2.imwrite(save_path, cv2.cvtColor(img, cv2.COLOR_RGB2BGR)[box[1]:box[3], box[0]:box[2]])\n",
    "    except Exception as e:\n",
    "        print(f\"Unable to save detection {i}, with boxes: {box}\")\n",
    "        print(e)\n",
    "Image.fromarray(ori_images[0])"
   ]
  },
  {
   "cell_type": "code",
   "execution_count": null,
   "id": "90cf829f-2faf-4332-9499-e19614c95cb1",
   "metadata": {},
   "outputs": [],
   "source": [
    "# [274, -1, 341, 30]\n",
    "image[-1:30, 273:341]"
   ]
  },
  {
   "cell_type": "code",
   "execution_count": null,
   "id": "e529ba80-05b0-4ee6-822d-8037dcfa984e",
   "metadata": {},
   "outputs": [],
   "source": [
    "cv2.imshow(\"img\",img[box[1]:box[3], box[0]:box[2]])\n",
    "cv2.waitKey(0)"
   ]
  },
  {
   "cell_type": "code",
   "execution_count": null,
   "id": "7f29c898-7726-45fa-97cc-f4d89f734ad5",
   "metadata": {},
   "outputs": [],
   "source": [
    "image_bgr[box[1]:box[3], box[0]:box[2]]"
   ]
  },
  {
   "cell_type": "code",
   "execution_count": null,
   "id": "9b408124-5df3-4675-8c05-fa71780a031b",
   "metadata": {},
   "outputs": [],
   "source": [
    "detection['x0'], detection['y0'], detection['x1'], detection['x1']"
   ]
  }
 ],
 "metadata": {
  "kernelspec": {
   "display_name": "Python 3 (ipykernel)",
   "language": "python",
   "name": "python3"
  },
  "language_info": {
   "codemirror_mode": {
    "name": "ipython",
    "version": 3
   },
   "file_extension": ".py",
   "mimetype": "text/x-python",
   "name": "python",
   "nbconvert_exporter": "python",
   "pygments_lexer": "ipython3",
   "version": "3.10.11"
  }
 },
 "nbformat": 4,
 "nbformat_minor": 5
}

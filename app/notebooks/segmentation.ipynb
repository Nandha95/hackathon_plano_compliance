{
 "cells": [
  {
   "cell_type": "code",
   "execution_count": 1,
   "id": "3ba549cb-8df8-4931-ba1a-2b657fd1068b",
   "metadata": {},
   "outputs": [],
   "source": [
    "import onnxruntime as rt\n",
    "import cv2\n",
    "import matplotlib.pyplot as plt\n",
    "from PIL import Image\n",
    "import numpy as np"
   ]
  },
  {
   "cell_type": "code",
   "execution_count": 8,
   "id": "e5eddac2-0ed5-4793-a00e-52f44a294fb6",
   "metadata": {},
   "outputs": [
    {
     "ename": "InvalidGraph",
     "evalue": "[ONNXRuntimeError] : 10 : INVALID_GRAPH : Load model from ../data/models/yolov7/best.onnx failed:This is an invalid model. In Node, (\"batched_nms\", EfficientNMS_TRT, \"\", -1) : (\"output\": tensor(float),) -> (\"num_dets\": tensor(int32),\"det_boxes\": tensor(float),\"det_scores\": tensor(float),\"det_classes\": tensor(int32),) , Error Node (batched_nms) has input size 1 not in range [min=2, max=3].",
     "output_type": "error",
     "traceback": [
      "\u001b[1;31m---------------------------------------------------------------------------\u001b[0m",
      "\u001b[1;31mInvalidGraph\u001b[0m                              Traceback (most recent call last)",
      "Cell \u001b[1;32mIn[8], line 1\u001b[0m\n\u001b[1;32m----> 1\u001b[0m sess \u001b[38;5;241m=\u001b[39m \u001b[43mrt\u001b[49m\u001b[38;5;241;43m.\u001b[39;49m\u001b[43mInferenceSession\u001b[49m\u001b[43m(\u001b[49m\n\u001b[0;32m      2\u001b[0m \u001b[43m    \u001b[49m\u001b[38;5;124;43m\"\u001b[39;49m\u001b[38;5;124;43m../data/models/yolov7/best.onnx\u001b[39;49m\u001b[38;5;124;43m\"\u001b[39;49m\u001b[43m,\u001b[49m\u001b[43m \u001b[49m\u001b[43mproviders\u001b[49m\u001b[38;5;241;43m=\u001b[39;49m\u001b[43mrt\u001b[49m\u001b[38;5;241;43m.\u001b[39;49m\u001b[43mget_available_providers\u001b[49m\u001b[43m(\u001b[49m\u001b[43m)\u001b[49m\u001b[43m)\u001b[49m\n",
      "File \u001b[1;32mC:\\Programs\\Miniconda3\\envs\\hackathon_plano_compliance\\lib\\site-packages\\onnxruntime\\capi\\onnxruntime_inference_collection.py:383\u001b[0m, in \u001b[0;36mInferenceSession.__init__\u001b[1;34m(self, path_or_bytes, sess_options, providers, provider_options, **kwargs)\u001b[0m\n\u001b[0;32m    380\u001b[0m disabled_optimizers \u001b[38;5;241m=\u001b[39m kwargs[\u001b[38;5;124m\"\u001b[39m\u001b[38;5;124mdisabled_optimizers\u001b[39m\u001b[38;5;124m\"\u001b[39m] \u001b[38;5;28;01mif\u001b[39;00m \u001b[38;5;124m\"\u001b[39m\u001b[38;5;124mdisabled_optimizers\u001b[39m\u001b[38;5;124m\"\u001b[39m \u001b[38;5;129;01min\u001b[39;00m kwargs \u001b[38;5;28;01melse\u001b[39;00m \u001b[38;5;28;01mNone\u001b[39;00m\n\u001b[0;32m    382\u001b[0m \u001b[38;5;28;01mtry\u001b[39;00m:\n\u001b[1;32m--> 383\u001b[0m     \u001b[38;5;28;43mself\u001b[39;49m\u001b[38;5;241;43m.\u001b[39;49m\u001b[43m_create_inference_session\u001b[49m\u001b[43m(\u001b[49m\u001b[43mproviders\u001b[49m\u001b[43m,\u001b[49m\u001b[43m \u001b[49m\u001b[43mprovider_options\u001b[49m\u001b[43m,\u001b[49m\u001b[43m \u001b[49m\u001b[43mdisabled_optimizers\u001b[49m\u001b[43m)\u001b[49m\n\u001b[0;32m    384\u001b[0m \u001b[38;5;28;01mexcept\u001b[39;00m (\u001b[38;5;167;01mValueError\u001b[39;00m, \u001b[38;5;167;01mRuntimeError\u001b[39;00m) \u001b[38;5;28;01mas\u001b[39;00m e:\n\u001b[0;32m    385\u001b[0m     \u001b[38;5;28;01mif\u001b[39;00m \u001b[38;5;28mself\u001b[39m\u001b[38;5;241m.\u001b[39m_enable_fallback:\n",
      "File \u001b[1;32mC:\\Programs\\Miniconda3\\envs\\hackathon_plano_compliance\\lib\\site-packages\\onnxruntime\\capi\\onnxruntime_inference_collection.py:424\u001b[0m, in \u001b[0;36mInferenceSession._create_inference_session\u001b[1;34m(self, providers, provider_options, disabled_optimizers)\u001b[0m\n\u001b[0;32m    422\u001b[0m session_options \u001b[38;5;241m=\u001b[39m \u001b[38;5;28mself\u001b[39m\u001b[38;5;241m.\u001b[39m_sess_options \u001b[38;5;28;01mif\u001b[39;00m \u001b[38;5;28mself\u001b[39m\u001b[38;5;241m.\u001b[39m_sess_options \u001b[38;5;28;01melse\u001b[39;00m C\u001b[38;5;241m.\u001b[39mget_default_session_options()\n\u001b[0;32m    423\u001b[0m \u001b[38;5;28;01mif\u001b[39;00m \u001b[38;5;28mself\u001b[39m\u001b[38;5;241m.\u001b[39m_model_path:\n\u001b[1;32m--> 424\u001b[0m     sess \u001b[38;5;241m=\u001b[39m \u001b[43mC\u001b[49m\u001b[38;5;241;43m.\u001b[39;49m\u001b[43mInferenceSession\u001b[49m\u001b[43m(\u001b[49m\u001b[43msession_options\u001b[49m\u001b[43m,\u001b[49m\u001b[43m \u001b[49m\u001b[38;5;28;43mself\u001b[39;49m\u001b[38;5;241;43m.\u001b[39;49m\u001b[43m_model_path\u001b[49m\u001b[43m,\u001b[49m\u001b[43m \u001b[49m\u001b[38;5;28;43;01mTrue\u001b[39;49;00m\u001b[43m,\u001b[49m\u001b[43m \u001b[49m\u001b[38;5;28;43mself\u001b[39;49m\u001b[38;5;241;43m.\u001b[39;49m\u001b[43m_read_config_from_model\u001b[49m\u001b[43m)\u001b[49m\n\u001b[0;32m    425\u001b[0m \u001b[38;5;28;01melse\u001b[39;00m:\n\u001b[0;32m    426\u001b[0m     sess \u001b[38;5;241m=\u001b[39m C\u001b[38;5;241m.\u001b[39mInferenceSession(session_options, \u001b[38;5;28mself\u001b[39m\u001b[38;5;241m.\u001b[39m_model_bytes, \u001b[38;5;28;01mFalse\u001b[39;00m, \u001b[38;5;28mself\u001b[39m\u001b[38;5;241m.\u001b[39m_read_config_from_model)\n",
      "\u001b[1;31mInvalidGraph\u001b[0m: [ONNXRuntimeError] : 10 : INVALID_GRAPH : Load model from ../data/models/yolov7/best.onnx failed:This is an invalid model. In Node, (\"batched_nms\", EfficientNMS_TRT, \"\", -1) : (\"output\": tensor(float),) -> (\"num_dets\": tensor(int32),\"det_boxes\": tensor(float),\"det_scores\": tensor(float),\"det_classes\": tensor(int32),) , Error Node (batched_nms) has input size 1 not in range [min=2, max=3]."
     ]
    }
   ],
   "source": [
    "sess = rt.InferenceSession(\n",
    "    \"../data/models/yolov7/best.onnx\", providers=rt.get_available_providers())"
   ]
  },
  {
   "cell_type": "code",
   "execution_count": 3,
   "id": "64af5e52-4a2b-4bf2-a989-6f526f3c4b45",
   "metadata": {},
   "outputs": [
    {
     "data": {
      "text/plain": [
       "('images', 'output')"
      ]
     },
     "execution_count": 3,
     "metadata": {},
     "output_type": "execute_result"
    }
   ],
   "source": [
    "sess.get_inputs()[0].name, sess.get_outputs()[0].name"
   ]
  },
  {
   "cell_type": "code",
   "execution_count": 2,
   "id": "8214e03a-f073-48e9-b91c-872a66f60cdb",
   "metadata": {},
   "outputs": [],
   "source": [
    "# tf.saved_model.LoadOptions(experimental_io_device=\"/job:localhost\")\n",
    "model = tf.saved_model.load(\"../data/models/yolov7/model/\")"
   ]
  },
  {
   "cell_type": "code",
   "execution_count": 3,
   "id": "cb1b37ff-50b2-49e7-a136-4a8e8d29d402",
   "metadata": {},
   "outputs": [
    {
     "data": {
      "text/plain": [
       "[<tf.Tensor 'Identity:0' shape=(1, 25200, 6) dtype=float32>]"
      ]
     },
     "execution_count": 3,
     "metadata": {},
     "output_type": "execute_result"
    }
   ],
   "source": [
    "model.signatures['serving_default'].outputs"
   ]
  },
  {
   "cell_type": "code",
   "execution_count": 4,
   "id": "0eae162a-7dc9-4f94-a584-55a829eb8ebc",
   "metadata": {},
   "outputs": [],
   "source": [
    "image = cv2.imread(\"../data/input/train_shelf_images/train1.jpg\")\n",
    "image_resized = cv2.resize(image, (640, 640), 3)\n",
    "image_array = np.array(image_resized)"
   ]
  },
  {
   "cell_type": "code",
   "execution_count": 5,
   "id": "c1356b30-a234-4d04-97a6-2a80cde9c6f2",
   "metadata": {},
   "outputs": [],
   "source": [
    "image_array = image_array.reshape((3, 640, 640))"
   ]
  },
  {
   "cell_type": "code",
   "execution_count": null,
   "id": "95d904ed-9bec-4380-952f-1b376049e639",
   "metadata": {},
   "outputs": [],
   "source": [
    "sess.run("
   ]
  },
  {
   "cell_type": "code",
   "execution_count": 6,
   "id": "0a0723ed-6f6d-44c1-99e0-d5f715de1633",
   "metadata": {},
   "outputs": [],
   "source": [
    "tensor = tf.convert_to_tensor(image_array, dtype=tf.float32)"
   ]
  },
  {
   "cell_type": "code",
   "execution_count": 7,
   "id": "925e6345-b387-4ba3-b9fe-ae256c239195",
   "metadata": {},
   "outputs": [
    {
     "data": {
      "text/plain": [
       "<tf.Tensor: shape=(1, 3, 640, 640), dtype=float32, numpy=\n",
       "array([[[[184., 163., 166., ..., 100., 113., 229.],\n",
       "         [216., 218., 226., ..., 167., 149., 175.],\n",
       "         [181.,  60.,  80., ..., 202., 223., 220.],\n",
       "         ...,\n",
       "         [ 43.,  76.,  78., ...,  99.,  69.,  73.],\n",
       "         [103.,  77.,  83., ...,  34.,  43., 164.],\n",
       "         [ 53.,  56., 122., ...,  35.,  64.,  30.]],\n",
       "\n",
       "        [[ 49.,  83.,  73., ..., 101.,  95.,  99.],\n",
       "         [121., 133., 139., ...,  35.,  43., 164.],\n",
       "         [ 71.,  80., 135., ...,  44.,  74.,  36.],\n",
       "         ...,\n",
       "         [210.,  29., 117., ...,  21.,  53.,  63.],\n",
       "         [109., 147., 161., ..., 195., 217., 203.],\n",
       "         [208., 211., 205., ..., 208.,  27., 116.]],\n",
       "\n",
       "        [[210.,  29., 117., ...,  17.,  43.,  56.],\n",
       "         [147., 167., 172., ..., 194., 218., 204.],\n",
       "         [209., 212., 205., ..., 209.,  26., 116.],\n",
       "         ...,\n",
       "         [198., 203., 194., ...,  58.,  95.,  59.],\n",
       "         [ 66., 109.,  61., ..., 171., 183., 180.],\n",
       "         [176., 182., 179., ..., 112.,  99., 101.]]]], dtype=float32)>"
      ]
     },
     "execution_count": 7,
     "metadata": {},
     "output_type": "execute_result"
    }
   ],
   "source": [
    "tensor[tf.newaxis, ...]"
   ]
  },
  {
   "cell_type": "code",
   "execution_count": 8,
   "id": "9bf4f8c5-0c05-447c-bc68-aa613191f5fb",
   "metadata": {},
   "outputs": [],
   "source": [
    "detections = model(images=tensor[tf.newaxis, ...])"
   ]
  },
  {
   "cell_type": "code",
   "execution_count": 9,
   "id": "a88fe80c-e5bd-43e2-adbb-26b6769a0108",
   "metadata": {},
   "outputs": [
    {
     "data": {
      "text/plain": [
       "{'output': <tf.Tensor: shape=(1, 25200, 6), dtype=float32, numpy=\n",
       " array([[[-3.9832613e+00,  1.1849958e+01,  1.2787511e+00,  1.4831218e-02,\n",
       "           8.9960208e-09,  9.9999839e-01],\n",
       "         [ 6.7149887e+00,  1.1966196e+01,  4.7811880e+00,  1.1477406e-02,\n",
       "           9.0610009e-01,  9.9490482e-01],\n",
       "         [ 1.2000011e+01,  1.1997852e+01,  4.3972259e+00,  2.7670932e-04,\n",
       "           9.2065036e-03,  9.9999964e-01],\n",
       "         ...,\n",
       "         [ 5.8964642e+02,  5.9200000e+02,  2.8432675e+02,  1.0383432e+00,\n",
       "           3.2867004e-15,  1.4161912e-02],\n",
       "         [ 6.2025775e+02,  5.9200012e+02,  7.2099640e+01,  3.7697846e-01,\n",
       "           1.3404424e-14,  2.4972254e-02],\n",
       "         [ 6.4489551e+02,  5.9203613e+02,  7.1999290e+01,  2.2729480e+00,\n",
       "           9.8389404e-12,  3.6396950e-01]]], dtype=float32)>}"
      ]
     },
     "execution_count": 9,
     "metadata": {},
     "output_type": "execute_result"
    }
   ],
   "source": [
    "detections"
   ]
  },
  {
   "cell_type": "code",
   "execution_count": 65,
   "id": "d4c5d1a2-da6e-4c7b-8207-ab63bfefe8fb",
   "metadata": {},
   "outputs": [],
   "source": [
    "inputs = model.signatures['serving_default'].inputs[0]\n",
    "outputs = model.signatures['serving_default'].outputs"
   ]
  },
  {
   "cell_type": "code",
   "execution_count": 66,
   "id": "1a178604-512a-461b-9566-1f347799a1a6",
   "metadata": {},
   "outputs": [
    {
     "ename": "TypeError",
     "evalue": "Tensor is unhashable. Instead, use tensor.ref() as the key.",
     "output_type": "error",
     "traceback": [
      "\u001b[1;31m---------------------------------------------------------------------------\u001b[0m",
      "\u001b[1;31mTypeError\u001b[0m                                 Traceback (most recent call last)",
      "Cell \u001b[1;32mIn[66], line 1\u001b[0m\n\u001b[1;32m----> 1\u001b[0m results \u001b[38;5;241m=\u001b[39m sess\u001b[38;5;241m.\u001b[39mrun(outputs, {inputs: np\u001b[38;5;241m.\u001b[39mexpand_dims(image, axis\u001b[38;5;241m=\u001b[39m\u001b[38;5;241m0\u001b[39m)})\n",
      "File \u001b[1;32mC:\\Programs\\Miniconda3\\envs\\hackathon_plano_compliance\\lib\\site-packages\\tensorflow\\python\\framework\\ops.py:898\u001b[0m, in \u001b[0;36mTensor.__hash__\u001b[1;34m(self)\u001b[0m\n\u001b[0;32m    895\u001b[0m g \u001b[38;5;241m=\u001b[39m \u001b[38;5;28mgetattr\u001b[39m(\u001b[38;5;28mself\u001b[39m, \u001b[38;5;124m\"\u001b[39m\u001b[38;5;124mgraph\u001b[39m\u001b[38;5;124m\"\u001b[39m, \u001b[38;5;28;01mNone\u001b[39;00m)\n\u001b[0;32m    896\u001b[0m \u001b[38;5;28;01mif\u001b[39;00m (Tensor\u001b[38;5;241m.\u001b[39m_USE_EQUALITY \u001b[38;5;129;01mand\u001b[39;00m executing_eagerly_outside_functions() \u001b[38;5;129;01mand\u001b[39;00m\n\u001b[0;32m    897\u001b[0m     (g \u001b[38;5;129;01mis\u001b[39;00m \u001b[38;5;28;01mNone\u001b[39;00m \u001b[38;5;129;01mor\u001b[39;00m g\u001b[38;5;241m.\u001b[39mbuilding_function)):\n\u001b[1;32m--> 898\u001b[0m   \u001b[38;5;28;01mraise\u001b[39;00m \u001b[38;5;167;01mTypeError\u001b[39;00m(\u001b[38;5;124m\"\u001b[39m\u001b[38;5;124mTensor is unhashable. \u001b[39m\u001b[38;5;124m\"\u001b[39m\n\u001b[0;32m    899\u001b[0m                   \u001b[38;5;124m\"\u001b[39m\u001b[38;5;124mInstead, use tensor.ref() as the key.\u001b[39m\u001b[38;5;124m\"\u001b[39m)\n\u001b[0;32m    900\u001b[0m \u001b[38;5;28;01melse\u001b[39;00m:\n\u001b[0;32m    901\u001b[0m   \u001b[38;5;28;01mreturn\u001b[39;00m \u001b[38;5;28mid\u001b[39m(\u001b[38;5;28mself\u001b[39m)\n",
      "\u001b[1;31mTypeError\u001b[0m: Tensor is unhashable. Instead, use tensor.ref() as the key."
     ]
    }
   ],
   "source": [
    "results = sess.run(outputs, {inputs: np.expand_dims(image, axis=0)})"
   ]
  },
  {
   "cell_type": "code",
   "execution_count": null,
   "id": "182d754d-0e6a-44b8-a132-b69bce10ea3a",
   "metadata": {},
   "outputs": [],
   "source": []
  }
 ],
 "metadata": {
  "kernelspec": {
   "display_name": "Python 3 (ipykernel)",
   "language": "python",
   "name": "python3"
  },
  "language_info": {
   "codemirror_mode": {
    "name": "ipython",
    "version": 3
   },
   "file_extension": ".py",
   "mimetype": "text/x-python",
   "name": "python",
   "nbconvert_exporter": "python",
   "pygments_lexer": "ipython3",
   "version": "3.10.11"
  }
 },
 "nbformat": 4,
 "nbformat_minor": 5
}
